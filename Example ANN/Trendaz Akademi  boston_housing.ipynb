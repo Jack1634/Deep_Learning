{
 "cells": [
  {
   "cell_type": "code",
   "execution_count": 45,
   "id": "b0494ce4",
   "metadata": {},
   "outputs": [],
   "source": [
    "from keras.datasets import boston_housing\n",
    "(X_train, y_train), (X_test, y_test) = boston_housing.load_data()"
   ]
  },
  {
   "cell_type": "code",
   "execution_count": 46,
   "id": "fa2c8d25",
   "metadata": {},
   "outputs": [],
   "source": [
    "import numpy as np"
   ]
  },
  {
   "cell_type": "code",
   "execution_count": 47,
   "id": "56f23c8a",
   "metadata": {},
   "outputs": [
    {
     "data": {
      "text/plain": [
       "numpy.ndarray"
      ]
     },
     "execution_count": 47,
     "metadata": {},
     "output_type": "execute_result"
    }
   ],
   "source": [
    "type(X_train)"
   ]
  },
  {
   "cell_type": "code",
   "execution_count": 48,
   "id": "7bd9c22e",
   "metadata": {},
   "outputs": [
    {
     "data": {
      "text/plain": [
       "(404, 13)"
      ]
     },
     "execution_count": 48,
     "metadata": {},
     "output_type": "execute_result"
    }
   ],
   "source": [
    "X_train.shape"
   ]
  },
  {
   "cell_type": "code",
   "execution_count": 49,
   "id": "e4f5fd69",
   "metadata": {},
   "outputs": [
    {
     "data": {
      "text/plain": [
       "(404,)"
      ]
     },
     "execution_count": 49,
     "metadata": {},
     "output_type": "execute_result"
    }
   ],
   "source": [
    "y_train.shape"
   ]
  },
  {
   "cell_type": "code",
   "execution_count": 50,
   "id": "d9dcc27e",
   "metadata": {},
   "outputs": [
    {
     "data": {
      "text/plain": [
       "(102, 13)"
      ]
     },
     "execution_count": 50,
     "metadata": {},
     "output_type": "execute_result"
    }
   ],
   "source": [
    "X_test.shape"
   ]
  },
  {
   "cell_type": "code",
   "execution_count": 51,
   "id": "84b8a642",
   "metadata": {},
   "outputs": [
    {
     "data": {
      "text/plain": [
       "array([[1.23247e+00, 0.00000e+00, 8.14000e+00, 0.00000e+00, 5.38000e-01,\n",
       "        6.14200e+00, 9.17000e+01, 3.97690e+00, 4.00000e+00, 3.07000e+02,\n",
       "        2.10000e+01, 3.96900e+02, 1.87200e+01],\n",
       "       [2.17700e-02, 8.25000e+01, 2.03000e+00, 0.00000e+00, 4.15000e-01,\n",
       "        7.61000e+00, 1.57000e+01, 6.27000e+00, 2.00000e+00, 3.48000e+02,\n",
       "        1.47000e+01, 3.95380e+02, 3.11000e+00],\n",
       "       [4.89822e+00, 0.00000e+00, 1.81000e+01, 0.00000e+00, 6.31000e-01,\n",
       "        4.97000e+00, 1.00000e+02, 1.33250e+00, 2.40000e+01, 6.66000e+02,\n",
       "        2.02000e+01, 3.75520e+02, 3.26000e+00]])"
      ]
     },
     "execution_count": 51,
     "metadata": {},
     "output_type": "execute_result"
    }
   ],
   "source": [
    "X_train[:3,:]"
   ]
  },
  {
   "cell_type": "code",
   "execution_count": 52,
   "id": "a8bbffa4",
   "metadata": {},
   "outputs": [],
   "source": [
    "x_val = X_train[300:,]\n",
    "y_val = y_train[300:,]"
   ]
  },
  {
   "cell_type": "code",
   "execution_count": 53,
   "id": "70a379f9",
   "metadata": {},
   "outputs": [],
   "source": [
    "from keras.models import Sequential"
   ]
  },
  {
   "cell_type": "code",
   "execution_count": 54,
   "id": "d79518bd",
   "metadata": {},
   "outputs": [],
   "source": [
    "model = Sequential()"
   ]
  },
  {
   "cell_type": "code",
   "execution_count": 55,
   "id": "13ec8d64",
   "metadata": {},
   "outputs": [],
   "source": [
    "from keras.layers import Dense, Activation"
   ]
  },
  {
   "cell_type": "code",
   "execution_count": 56,
   "id": "b83a6443",
   "metadata": {},
   "outputs": [],
   "source": [
    "model.add(Dense(13, input_dim=13, kernel_initializer=\"normal\", \n",
    "                activation=\"relu\"))"
   ]
  },
  {
   "cell_type": "code",
   "execution_count": 57,
   "id": "689ee1cb",
   "metadata": {},
   "outputs": [],
   "source": [
    "model.add(Dense(6, kernel_initializer=\"normal\", activation=\"relu\"))"
   ]
  },
  {
   "cell_type": "code",
   "execution_count": 58,
   "id": "1ee8cc99",
   "metadata": {},
   "outputs": [],
   "source": [
    "model.add(Dense(1, kernel_initializer=\"normal\"))"
   ]
  },
  {
   "cell_type": "code",
   "execution_count": 59,
   "id": "7992b5a0",
   "metadata": {},
   "outputs": [],
   "source": [
    "model.compile(loss=\"mean_squared_error\", optimizer=\"adam\",\n",
    "            metrics = [\"mean_absolute_percentage_error\"])"
   ]
  },
  {
   "cell_type": "code",
   "execution_count": 60,
   "id": "ac459bcf",
   "metadata": {},
   "outputs": [
    {
     "name": "stdout",
     "output_type": "stream",
     "text": [
      "Epoch 1/30\n",
      "13/13 [==============================] - 0s 9ms/step - loss: 587.8062 - mean_absolute_percentage_error: 100.2491 - val_loss: 676.9760 - val_mean_absolute_percentage_error: 99.5152\n",
      "Epoch 2/30\n",
      "13/13 [==============================] - 0s 3ms/step - loss: 576.4695 - mean_absolute_percentage_error: 98.7340 - val_loss: 661.1335 - val_mean_absolute_percentage_error: 97.7382\n",
      "Epoch 3/30\n",
      "13/13 [==============================] - 0s 3ms/step - loss: 555.2151 - mean_absolute_percentage_error: 95.8281 - val_loss: 626.1727 - val_mean_absolute_percentage_error: 93.7836\n",
      "Epoch 4/30\n",
      "13/13 [==============================] - 0s 3ms/step - loss: 509.1419 - mean_absolute_percentage_error: 89.4224 - val_loss: 552.1298 - val_mean_absolute_percentage_error: 84.9746\n",
      "Epoch 5/30\n",
      "13/13 [==============================] - 0s 3ms/step - loss: 418.4360 - mean_absolute_percentage_error: 75.9563 - val_loss: 418.2718 - val_mean_absolute_percentage_error: 67.1136\n",
      "Epoch 6/30\n",
      "13/13 [==============================] - 0s 3ms/step - loss: 282.9457 - mean_absolute_percentage_error: 56.6237 - val_loss: 252.6613 - val_mean_absolute_percentage_error: 45.8439\n",
      "Epoch 7/30\n",
      "13/13 [==============================] - 0s 3ms/step - loss: 163.3948 - mean_absolute_percentage_error: 44.2652 - val_loss: 158.0943 - val_mean_absolute_percentage_error: 41.3349\n",
      "Epoch 8/30\n",
      "13/13 [==============================] - 0s 3ms/step - loss: 137.0801 - mean_absolute_percentage_error: 49.4380 - val_loss: 146.8138 - val_mean_absolute_percentage_error: 44.0855\n",
      "Epoch 9/30\n",
      "13/13 [==============================] - 0s 3ms/step - loss: 130.7260 - mean_absolute_percentage_error: 47.8757 - val_loss: 143.5326 - val_mean_absolute_percentage_error: 39.7665\n",
      "Epoch 10/30\n",
      "13/13 [==============================] - 0s 3ms/step - loss: 122.0346 - mean_absolute_percentage_error: 44.1862 - val_loss: 137.3164 - val_mean_absolute_percentage_error: 38.4899\n",
      "Epoch 11/30\n",
      "13/13 [==============================] - 0s 3ms/step - loss: 115.2293 - mean_absolute_percentage_error: 42.0129 - val_loss: 132.8753 - val_mean_absolute_percentage_error: 36.5529\n",
      "Epoch 12/30\n",
      "13/13 [==============================] - 0s 3ms/step - loss: 108.6907 - mean_absolute_percentage_error: 39.6039 - val_loss: 124.5480 - val_mean_absolute_percentage_error: 34.8101\n",
      "Epoch 13/30\n",
      "13/13 [==============================] - 0s 3ms/step - loss: 99.8775 - mean_absolute_percentage_error: 36.6696 - val_loss: 115.6461 - val_mean_absolute_percentage_error: 32.2418\n",
      "Epoch 14/30\n",
      "13/13 [==============================] - 0s 3ms/step - loss: 91.1587 - mean_absolute_percentage_error: 34.4363 - val_loss: 106.0503 - val_mean_absolute_percentage_error: 31.1274\n",
      "Epoch 15/30\n",
      "13/13 [==============================] - 0s 3ms/step - loss: 83.7570 - mean_absolute_percentage_error: 33.3238 - val_loss: 100.2489 - val_mean_absolute_percentage_error: 28.8863\n",
      "Epoch 16/30\n",
      "13/13 [==============================] - 0s 3ms/step - loss: 78.2397 - mean_absolute_percentage_error: 31.5114 - val_loss: 94.9421 - val_mean_absolute_percentage_error: 27.2502\n",
      "Epoch 17/30\n",
      "13/13 [==============================] - 0s 3ms/step - loss: 74.6448 - mean_absolute_percentage_error: 31.4229 - val_loss: 91.4977 - val_mean_absolute_percentage_error: 26.3600\n",
      "Epoch 18/30\n",
      "13/13 [==============================] - 0s 3ms/step - loss: 71.8380 - mean_absolute_percentage_error: 30.0050 - val_loss: 90.5770 - val_mean_absolute_percentage_error: 25.4962\n",
      "Epoch 19/30\n",
      "13/13 [==============================] - 0s 3ms/step - loss: 70.2407 - mean_absolute_percentage_error: 30.3330 - val_loss: 87.4968 - val_mean_absolute_percentage_error: 26.3909\n",
      "Epoch 20/30\n",
      "13/13 [==============================] - 0s 3ms/step - loss: 69.1058 - mean_absolute_percentage_error: 30.6113 - val_loss: 87.3822 - val_mean_absolute_percentage_error: 25.8034\n",
      "Epoch 21/30\n",
      "13/13 [==============================] - 0s 3ms/step - loss: 68.1498 - mean_absolute_percentage_error: 30.7622 - val_loss: 86.4627 - val_mean_absolute_percentage_error: 25.7833\n",
      "Epoch 22/30\n",
      "13/13 [==============================] - 0s 3ms/step - loss: 67.4580 - mean_absolute_percentage_error: 29.3278 - val_loss: 87.0507 - val_mean_absolute_percentage_error: 25.1613\n",
      "Epoch 23/30\n",
      "13/13 [==============================] - 0s 3ms/step - loss: 66.5307 - mean_absolute_percentage_error: 29.8594 - val_loss: 84.4089 - val_mean_absolute_percentage_error: 26.0239\n",
      "Epoch 24/30\n",
      "13/13 [==============================] - 0s 3ms/step - loss: 66.0478 - mean_absolute_percentage_error: 29.8813 - val_loss: 85.2046 - val_mean_absolute_percentage_error: 25.0697\n",
      "Epoch 25/30\n",
      "13/13 [==============================] - 0s 3ms/step - loss: 65.5086 - mean_absolute_percentage_error: 29.9153 - val_loss: 84.4660 - val_mean_absolute_percentage_error: 24.9834\n",
      "Epoch 26/30\n",
      "13/13 [==============================] - 0s 3ms/step - loss: 64.7503 - mean_absolute_percentage_error: 29.7576 - val_loss: 83.6796 - val_mean_absolute_percentage_error: 25.0477\n",
      "Epoch 27/30\n",
      "13/13 [==============================] - 0s 3ms/step - loss: 63.9934 - mean_absolute_percentage_error: 28.6979 - val_loss: 84.0798 - val_mean_absolute_percentage_error: 24.6992\n",
      "Epoch 28/30\n",
      "13/13 [==============================] - 0s 3ms/step - loss: 63.7287 - mean_absolute_percentage_error: 28.6708 - val_loss: 82.8202 - val_mean_absolute_percentage_error: 25.0028\n",
      "Epoch 29/30\n",
      "13/13 [==============================] - 0s 3ms/step - loss: 63.5252 - mean_absolute_percentage_error: 28.3139 - val_loss: 83.7540 - val_mean_absolute_percentage_error: 24.4005\n",
      "Epoch 30/30\n",
      "13/13 [==============================] - 0s 3ms/step - loss: 62.8353 - mean_absolute_percentage_error: 28.9982 - val_loss: 81.8872 - val_mean_absolute_percentage_error: 24.9281\n"
     ]
    },
    {
     "data": {
      "text/plain": [
       "<keras.callbacks.History at 0x22a51dcec10>"
      ]
     },
     "execution_count": 60,
     "metadata": {},
     "output_type": "execute_result"
    }
   ],
   "source": [
    "model.fit(X_train, y_train, batch_size=32, epochs=30, validation_data=(x_val, y_val))"
   ]
  },
  {
   "cell_type": "code",
   "execution_count": 61,
   "id": "f8c586b8",
   "metadata": {},
   "outputs": [
    {
     "name": "stdout",
     "output_type": "stream",
     "text": [
      "4/4 [==============================] - 0s 1ms/step - loss: 67.4086 - mean_absolute_percentage_error: 32.7321\n"
     ]
    }
   ],
   "source": [
    "sonuç = model.evaluate(X_test, y_test)"
   ]
  },
  {
   "cell_type": "code",
   "execution_count": 62,
   "id": "637f824a",
   "metadata": {},
   "outputs": [
    {
     "name": "stdout",
     "output_type": "stream",
     "text": [
      "loss : 67.40856170654297\n",
      "mean_absolute_percentage_error : 32.73208999633789\n"
     ]
    }
   ],
   "source": [
    "for i in range(len(model.metrics_names)):\n",
    "    print(model.metrics_names[i], \":\", sonuç[i])"
   ]
  },
  {
   "cell_type": "code",
   "execution_count": null,
   "id": "293ee36c",
   "metadata": {},
   "outputs": [],
   "source": []
  },
  {
   "cell_type": "code",
   "execution_count": null,
   "id": "0637b7d7",
   "metadata": {},
   "outputs": [],
   "source": []
  },
  {
   "cell_type": "code",
   "execution_count": null,
   "id": "0488e8a8",
   "metadata": {},
   "outputs": [],
   "source": []
  },
  {
   "cell_type": "code",
   "execution_count": null,
   "id": "f1ad1c72",
   "metadata": {},
   "outputs": [],
   "source": []
  },
  {
   "cell_type": "code",
   "execution_count": null,
   "id": "3ca26ae2",
   "metadata": {},
   "outputs": [],
   "source": []
  },
  {
   "cell_type": "code",
   "execution_count": null,
   "id": "a6efeff2",
   "metadata": {},
   "outputs": [],
   "source": []
  },
  {
   "cell_type": "code",
   "execution_count": null,
   "id": "3475526b",
   "metadata": {},
   "outputs": [],
   "source": []
  },
  {
   "cell_type": "code",
   "execution_count": null,
   "id": "1c8f829a",
   "metadata": {},
   "outputs": [],
   "source": []
  },
  {
   "cell_type": "code",
   "execution_count": null,
   "id": "a7119f68",
   "metadata": {},
   "outputs": [],
   "source": []
  },
  {
   "cell_type": "code",
   "execution_count": null,
   "id": "ee5b131e",
   "metadata": {},
   "outputs": [],
   "source": []
  },
  {
   "cell_type": "code",
   "execution_count": null,
   "id": "ee1afdf1",
   "metadata": {},
   "outputs": [],
   "source": []
  },
  {
   "cell_type": "code",
   "execution_count": null,
   "id": "c974bb0d",
   "metadata": {},
   "outputs": [],
   "source": []
  },
  {
   "cell_type": "code",
   "execution_count": null,
   "id": "5296f788",
   "metadata": {},
   "outputs": [],
   "source": []
  },
  {
   "cell_type": "code",
   "execution_count": null,
   "id": "5b032d61",
   "metadata": {},
   "outputs": [],
   "source": []
  },
  {
   "cell_type": "code",
   "execution_count": null,
   "id": "5076cfca",
   "metadata": {},
   "outputs": [],
   "source": []
  },
  {
   "cell_type": "code",
   "execution_count": null,
   "id": "ad7791bd",
   "metadata": {},
   "outputs": [],
   "source": []
  },
  {
   "cell_type": "code",
   "execution_count": null,
   "id": "a629b6e9",
   "metadata": {},
   "outputs": [],
   "source": []
  },
  {
   "cell_type": "code",
   "execution_count": null,
   "id": "d4e0f27a",
   "metadata": {},
   "outputs": [],
   "source": []
  },
  {
   "cell_type": "code",
   "execution_count": null,
   "id": "074bc70d",
   "metadata": {},
   "outputs": [],
   "source": []
  },
  {
   "cell_type": "code",
   "execution_count": null,
   "id": "cb06577b",
   "metadata": {},
   "outputs": [],
   "source": []
  },
  {
   "cell_type": "code",
   "execution_count": null,
   "id": "bc8c6d3b",
   "metadata": {},
   "outputs": [],
   "source": []
  },
  {
   "cell_type": "code",
   "execution_count": null,
   "id": "6e6afd8c",
   "metadata": {},
   "outputs": [],
   "source": []
  },
  {
   "cell_type": "code",
   "execution_count": null,
   "id": "1b73892a",
   "metadata": {},
   "outputs": [],
   "source": []
  },
  {
   "cell_type": "code",
   "execution_count": null,
   "id": "dadb6367",
   "metadata": {},
   "outputs": [],
   "source": []
  },
  {
   "cell_type": "code",
   "execution_count": null,
   "id": "f0ae0293",
   "metadata": {},
   "outputs": [],
   "source": []
  },
  {
   "cell_type": "code",
   "execution_count": null,
   "id": "bb9b10d7",
   "metadata": {},
   "outputs": [],
   "source": []
  },
  {
   "cell_type": "code",
   "execution_count": null,
   "id": "8ad37346",
   "metadata": {},
   "outputs": [],
   "source": []
  },
  {
   "cell_type": "code",
   "execution_count": null,
   "id": "bede2038",
   "metadata": {},
   "outputs": [],
   "source": []
  },
  {
   "cell_type": "code",
   "execution_count": null,
   "id": "89e46bf0",
   "metadata": {},
   "outputs": [],
   "source": []
  },
  {
   "cell_type": "code",
   "execution_count": null,
   "id": "b8d8e458",
   "metadata": {},
   "outputs": [],
   "source": []
  },
  {
   "cell_type": "code",
   "execution_count": null,
   "id": "a160f06d",
   "metadata": {},
   "outputs": [],
   "source": []
  },
  {
   "cell_type": "code",
   "execution_count": null,
   "id": "005fba3c",
   "metadata": {},
   "outputs": [],
   "source": []
  },
  {
   "cell_type": "code",
   "execution_count": null,
   "id": "757d0bc3",
   "metadata": {},
   "outputs": [],
   "source": []
  },
  {
   "cell_type": "code",
   "execution_count": null,
   "id": "338be47a",
   "metadata": {},
   "outputs": [],
   "source": []
  },
  {
   "cell_type": "code",
   "execution_count": null,
   "id": "f56e7672",
   "metadata": {},
   "outputs": [],
   "source": []
  },
  {
   "cell_type": "code",
   "execution_count": null,
   "id": "ea78f35d",
   "metadata": {},
   "outputs": [],
   "source": []
  },
  {
   "cell_type": "code",
   "execution_count": null,
   "id": "151ab3b9",
   "metadata": {},
   "outputs": [],
   "source": []
  },
  {
   "cell_type": "code",
   "execution_count": null,
   "id": "2745124a",
   "metadata": {},
   "outputs": [],
   "source": []
  },
  {
   "cell_type": "code",
   "execution_count": null,
   "id": "7160eefa",
   "metadata": {},
   "outputs": [],
   "source": []
  },
  {
   "cell_type": "code",
   "execution_count": null,
   "id": "98fc9948",
   "metadata": {},
   "outputs": [],
   "source": []
  },
  {
   "cell_type": "code",
   "execution_count": null,
   "id": "7027f521",
   "metadata": {},
   "outputs": [],
   "source": []
  },
  {
   "cell_type": "code",
   "execution_count": null,
   "id": "a4035540",
   "metadata": {},
   "outputs": [],
   "source": []
  },
  {
   "cell_type": "code",
   "execution_count": null,
   "id": "f23b4707",
   "metadata": {},
   "outputs": [],
   "source": []
  },
  {
   "cell_type": "code",
   "execution_count": null,
   "id": "060c23f6",
   "metadata": {},
   "outputs": [],
   "source": []
  },
  {
   "cell_type": "code",
   "execution_count": null,
   "id": "177e68f1",
   "metadata": {},
   "outputs": [],
   "source": []
  },
  {
   "cell_type": "code",
   "execution_count": null,
   "id": "700e140c",
   "metadata": {},
   "outputs": [],
   "source": []
  },
  {
   "cell_type": "code",
   "execution_count": null,
   "id": "d8f04be7",
   "metadata": {},
   "outputs": [],
   "source": []
  },
  {
   "cell_type": "code",
   "execution_count": null,
   "id": "ba68bdbb",
   "metadata": {},
   "outputs": [],
   "source": []
  },
  {
   "cell_type": "code",
   "execution_count": null,
   "id": "e09ea1cb",
   "metadata": {},
   "outputs": [],
   "source": []
  },
  {
   "cell_type": "code",
   "execution_count": null,
   "id": "ddafc598",
   "metadata": {},
   "outputs": [],
   "source": []
  },
  {
   "cell_type": "code",
   "execution_count": null,
   "id": "2a35cc68",
   "metadata": {},
   "outputs": [],
   "source": []
  },
  {
   "cell_type": "code",
   "execution_count": null,
   "id": "fdeca395",
   "metadata": {},
   "outputs": [],
   "source": []
  }
 ],
 "metadata": {
  "kernelspec": {
   "display_name": "Python 3 (ipykernel)",
   "language": "python",
   "name": "python3"
  },
  "language_info": {
   "codemirror_mode": {
    "name": "ipython",
    "version": 3
   },
   "file_extension": ".py",
   "mimetype": "text/x-python",
   "name": "python",
   "nbconvert_exporter": "python",
   "pygments_lexer": "ipython3",
   "version": "3.9.7"
  }
 },
 "nbformat": 4,
 "nbformat_minor": 5
}
